{
 "cells": [
  {
   "cell_type": "code",
   "execution_count": null,
   "id": "8770289b",
   "metadata": {},
   "outputs": [
    {
     "name": "stdout",
     "output_type": "stream",
     "text": [
      " * Serving Flask app '__main__' (lazy loading)\n",
      " * Environment: production\n",
      "\u001b[31m   WARNING: This is a development server. Do not use it in a production deployment.\u001b[0m\n",
      "\u001b[2m   Use a production WSGI server instead.\u001b[0m\n",
      " * Debug mode: off\n"
     ]
    },
    {
     "name": "stderr",
     "output_type": "stream",
     "text": [
      "C:\\Users\\Prath\\AppData\\Local\\Programs\\Python\\Python310\\lib\\site-packages\\sklearn\\base.py:329: UserWarning: Trying to unpickle estimator LogisticRegression from version 0.22.1 when using version 1.0.2. This might lead to breaking code or invalid results. Use at your own risk. For more info please refer to:\n",
      "https://scikit-learn.org/stable/modules/model_persistence.html#security-maintainability-limitations\n",
      "  warnings.warn(\n",
      " * Running on http://127.0.0.1:5000 (Press CTRL+C to quit)\n",
      "127.0.0.1 - - [19/Jun/2022 11:44:14] \"GET / HTTP/1.1\" 200 -\n",
      "127.0.0.1 - - [19/Jun/2022 11:44:14] \"GET /style.css HTTP/1.1\" 404 -\n",
      "127.0.0.1 - - [19/Jun/2022 11:44:15] \"GET /favicon.ico HTTP/1.1\" 404 -\n",
      "127.0.0.1 - - [19/Jun/2022 11:44:46] \"POST /predict HTTP/1.1\" 200 -\n",
      "127.0.0.1 - - [19/Jun/2022 11:44:46] \"GET /style.css HTTP/1.1\" 404 -\n",
      "127.0.0.1 - - [19/Jun/2022 11:45:48] \"POST /predict HTTP/1.1\" 200 -\n",
      "127.0.0.1 - - [19/Jun/2022 11:45:48] \"GET /style.css HTTP/1.1\" 404 -\n",
      "127.0.0.1 - - [19/Jun/2022 11:45:59] \"GET / HTTP/1.1\" 200 -\n",
      "127.0.0.1 - - [19/Jun/2022 11:45:59] \"GET /style.css HTTP/1.1\" 404 -\n",
      "127.0.0.1 - - [19/Jun/2022 12:39:33] \"POST /predict HTTP/1.1\" 200 -\n",
      "127.0.0.1 - - [19/Jun/2022 12:39:33] \"GET /style.css HTTP/1.1\" 404 -\n",
      "127.0.0.1 - - [19/Jun/2022 12:40:28] \"POST /predict HTTP/1.1\" 200 -\n",
      "127.0.0.1 - - [19/Jun/2022 12:40:28] \"GET /style.css HTTP/1.1\" 404 -\n"
     ]
    }
   ],
   "source": [
    "import numpy as np\n",
    "from flask import Flask, request, jsonify, render_template\n",
    "import joblib\n",
    "\n",
    "app = Flask(__name__)\n",
    "model = joblib.load('model.pkl')\n",
    "\n",
    "@app.route('/')\n",
    "def home():\n",
    "    return render_template('index.html')\n",
    "\n",
    "@app.route('/predict',methods=['POST'])\n",
    "def predict():\n",
    "\n",
    "    int_features = [float(x) for x in request.form.values()]\n",
    "\n",
    "    if int_features[0]==0:\n",
    "        f_features=[0,0,0]+int_features[1:]\n",
    "    elif int_features[0]==1:\n",
    "        f_features=[1,0,0]+int_features[1:]\n",
    "    elif int_features[0]==2:\n",
    "        f_features=[0,1,0]+int_features[1:]\n",
    "    else:\n",
    "        f_features=[0,0,1]+int_features[1:]\n",
    "\n",
    "    if f_features[6]==0:\n",
    "        fn_features=f_features[:6]+[0,0]+f_features[7:]\n",
    "    elif f_features[6]==1:\n",
    "        fn_features=f_features[:6]+[1,0]+f_features[7:]\n",
    "    else:\n",
    "        fn_features=f_features[:6]+[0,1]+f_features[7:]\n",
    "\n",
    "    final_features = [np.array(fn_features)]\n",
    "    predict = model.predict(final_features)\n",
    "\n",
    "    if predict==0:\n",
    "        output='Normal'\n",
    "    elif predict==1:\n",
    "        output='DOS'\n",
    "    elif predict==2:\n",
    "        output='PROBE'\n",
    "    elif predict==3:\n",
    "        output='R2L'\n",
    "    else:\n",
    "        output='U2R'\n",
    "\n",
    "    return render_template('index.html', output=output)\n",
    "\n",
    "@app.route('/results',methods=['POST'])\n",
    "def results():\n",
    "\n",
    "    data = request.get_json(force=True)\n",
    "    predict = model.predict([np.array(list(data.values()))])\n",
    "\n",
    "    if predict==0:\n",
    "        output='Normal'\n",
    "    elif predict==1:\n",
    "        output='DOS'\n",
    "    elif predict==2:\n",
    "        output='PROBE'\n",
    "    elif predict==3:\n",
    "        output='R2L'\n",
    "    else:\n",
    "        output='U2R'\n",
    "\n",
    "    return jsonify(output)\n",
    "\n",
    "if __name__ == \"__main__\":\n",
    "    app.run()"
   ]
  },
  {
   "cell_type": "code",
   "execution_count": null,
   "id": "98909cfd",
   "metadata": {},
   "outputs": [],
   "source": []
  }
 ],
 "metadata": {
  "kernelspec": {
   "display_name": "Python 3 (ipykernel)",
   "language": "python",
   "name": "python3"
  },
  "language_info": {
   "codemirror_mode": {
    "name": "ipython",
    "version": 3
   },
   "file_extension": ".py",
   "mimetype": "text/x-python",
   "name": "python",
   "nbconvert_exporter": "python",
   "pygments_lexer": "ipython3",
   "version": "3.10.1"
  }
 },
 "nbformat": 4,
 "nbformat_minor": 5
}
